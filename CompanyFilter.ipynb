{
 "cells": [
  {
   "cell_type": "code",
   "execution_count": 1,
   "metadata": {
    "collapsed": true
   },
   "outputs": [],
   "source": [
    "%load_ext autoreload"
   ]
  },
  {
   "cell_type": "code",
   "execution_count": 2,
   "metadata": {
    "collapsed": true
   },
   "outputs": [],
   "source": [
    "%autoreload 2"
   ]
  },
  {
   "cell_type": "code",
   "execution_count": 3,
   "metadata": {
    "collapsed": true
   },
   "outputs": [],
   "source": [
    "from unibit_api import download_company_profiles"
   ]
  },
  {
   "cell_type": "code",
   "execution_count": 4,
   "metadata": {
    "collapsed": false
   },
   "outputs": [],
   "source": [
    "download_company_profiles('PAR')"
   ]
  },
  {
   "cell_type": "code",
   "execution_count": 5,
   "metadata": {
    "collapsed": true
   },
   "outputs": [],
   "source": [
    "import pandas as pd"
   ]
  },
  {
   "cell_type": "code",
   "execution_count": 6,
   "metadata": {
    "collapsed": true
   },
   "outputs": [],
   "source": [
    "df = pd.read_csv('cache/exchange_PAR.csv')"
   ]
  },
  {
   "cell_type": "code",
   "execution_count": 7,
   "metadata": {
    "collapsed": false
   },
   "outputs": [
    {
     "data": {
      "text/html": [
       "<div>\n",
       "<style scoped>\n",
       "    .dataframe tbody tr th:only-of-type {\n",
       "        vertical-align: middle;\n",
       "    }\n",
       "\n",
       "    .dataframe tbody tr th {\n",
       "        vertical-align: top;\n",
       "    }\n",
       "\n",
       "    .dataframe thead th {\n",
       "        text-align: right;\n",
       "    }\n",
       "</style>\n",
       "<table border=\"1\" class=\"dataframe\">\n",
       "  <thead>\n",
       "    <tr style=\"text-align: right;\">\n",
       "      <th></th>\n",
       "      <th>ticker</th>\n",
       "      <th>company name</th>\n",
       "      <th>address</th>\n",
       "      <th>phone</th>\n",
       "      <th>website</th>\n",
       "      <th>sector</th>\n",
       "      <th>industry</th>\n",
       "      <th>employee number</th>\n",
       "      <th>executive1 name</th>\n",
       "      <th>executive1 title</th>\n",
       "      <th>...</th>\n",
       "      <th>executive4 name</th>\n",
       "      <th>executive4 title</th>\n",
       "      <th>executive4 pay</th>\n",
       "      <th>executive4 exercised</th>\n",
       "      <th>executive4 yearborn</th>\n",
       "      <th>executive5 name</th>\n",
       "      <th>executive5 title</th>\n",
       "      <th>executive5 pay</th>\n",
       "      <th>executive5 exercised</th>\n",
       "      <th>executive5 yearborn</th>\n",
       "    </tr>\n",
       "  </thead>\n",
       "  <tbody>\n",
       "    <tr>\n",
       "      <th>0</th>\n",
       "      <td>500.PA</td>\n",
       "      <td>-</td>\n",
       "      <td>-</td>\n",
       "      <td>-</td>\n",
       "      <td>-</td>\n",
       "      <td>-</td>\n",
       "      <td>-</td>\n",
       "      <td>-</td>\n",
       "      <td>-</td>\n",
       "      <td>-</td>\n",
       "      <td>...</td>\n",
       "      <td>-</td>\n",
       "      <td>-</td>\n",
       "      <td>-</td>\n",
       "      <td>-</td>\n",
       "      <td>-</td>\n",
       "      <td>-</td>\n",
       "      <td>-</td>\n",
       "      <td>-</td>\n",
       "      <td>-</td>\n",
       "      <td>-</td>\n",
       "    </tr>\n",
       "    <tr>\n",
       "      <th>1</th>\n",
       "      <td>AALB.PA</td>\n",
       "      <td>-</td>\n",
       "      <td>-</td>\n",
       "      <td>-</td>\n",
       "      <td>-</td>\n",
       "      <td>-</td>\n",
       "      <td>-</td>\n",
       "      <td>-</td>\n",
       "      <td>-</td>\n",
       "      <td>-</td>\n",
       "      <td>...</td>\n",
       "      <td>-</td>\n",
       "      <td>-</td>\n",
       "      <td>-</td>\n",
       "      <td>-</td>\n",
       "      <td>-</td>\n",
       "      <td>-</td>\n",
       "      <td>-</td>\n",
       "      <td>-</td>\n",
       "      <td>-</td>\n",
       "      <td>-</td>\n",
       "    </tr>\n",
       "    <tr>\n",
       "      <th>2</th>\n",
       "      <td>AB.PA</td>\n",
       "      <td>AB Science S.A.</td>\n",
       "      <td>3 Avenue George V Paris 75008 France</td>\n",
       "      <td>33 1 47 20 00 14</td>\n",
       "      <td>http://www.ab-science.com</td>\n",
       "      <td>Healthcare</td>\n",
       "      <td>Drug Manufacturers - Major</td>\n",
       "      <td>123</td>\n",
       "      <td>Mr. Alain  Moussy</td>\n",
       "      <td>Co-Founder Chairman CEO &amp; Scientific Director</td>\n",
       "      <td>...</td>\n",
       "      <td>Mr. Christian  FASSOTTE</td>\n",
       "      <td>Global Chief Medical Officer</td>\n",
       "      <td>-</td>\n",
       "      <td>-</td>\n",
       "      <td>-</td>\n",
       "      <td>Mr. Alexis  BERNARD</td>\n",
       "      <td>Head of Veterinary Sales</td>\n",
       "      <td>-</td>\n",
       "      <td>-</td>\n",
       "      <td>-</td>\n",
       "    </tr>\n",
       "    <tr>\n",
       "      <th>3</th>\n",
       "      <td>ABBV.PA</td>\n",
       "      <td>-</td>\n",
       "      <td>-</td>\n",
       "      <td>-</td>\n",
       "      <td>-</td>\n",
       "      <td>-</td>\n",
       "      <td>-</td>\n",
       "      <td>-</td>\n",
       "      <td>-</td>\n",
       "      <td>-</td>\n",
       "      <td>...</td>\n",
       "      <td>-</td>\n",
       "      <td>-</td>\n",
       "      <td>-</td>\n",
       "      <td>-</td>\n",
       "      <td>-</td>\n",
       "      <td>-</td>\n",
       "      <td>-</td>\n",
       "      <td>-</td>\n",
       "      <td>-</td>\n",
       "      <td>-</td>\n",
       "    </tr>\n",
       "    <tr>\n",
       "      <th>4</th>\n",
       "      <td>ABCA.PA</td>\n",
       "      <td>ABC Arbitrage SA</td>\n",
       "      <td>18 rue du Quatre Septembre Paris 75002 France</td>\n",
       "      <td>33 1 53 00 55 00</td>\n",
       "      <td>http://www.abc-arbitrage.com</td>\n",
       "      <td>Financial Services</td>\n",
       "      <td>Asset Management</td>\n",
       "      <td>83</td>\n",
       "      <td>Mr. Dominique  Ceolin</td>\n",
       "      <td>Co-Founder Chairman &amp; CEO</td>\n",
       "      <td>...</td>\n",
       "      <td>Mr. Gaëtan  Fournier</td>\n",
       "      <td>Head of Fin. Internal Control &amp; Compliance Off...</td>\n",
       "      <td>-</td>\n",
       "      <td>-</td>\n",
       "      <td>-</td>\n",
       "      <td>Mr. David  Hoey</td>\n",
       "      <td>Deputy Chief Exec. Officer</td>\n",
       "      <td>-</td>\n",
       "      <td>-</td>\n",
       "      <td>1970</td>\n",
       "    </tr>\n",
       "  </tbody>\n",
       "</table>\n",
       "<p>5 rows × 33 columns</p>\n",
       "</div>"
      ],
      "text/plain": [
       "    ticker      company name                                        address  \\\n",
       "0   500.PA                 -                                              -   \n",
       "1  AALB.PA                 -                                              -   \n",
       "2    AB.PA   AB Science S.A.           3 Avenue George V Paris 75008 France   \n",
       "3  ABBV.PA                 -                                              -   \n",
       "4  ABCA.PA  ABC Arbitrage SA  18 rue du Quatre Septembre Paris 75002 France   \n",
       "\n",
       "              phone                       website              sector  \\\n",
       "0                 -                             -                   -   \n",
       "1                 -                             -                   -   \n",
       "2  33 1 47 20 00 14     http://www.ab-science.com          Healthcare   \n",
       "3                 -                             -                   -   \n",
       "4  33 1 53 00 55 00  http://www.abc-arbitrage.com  Financial Services   \n",
       "\n",
       "                     industry employee number        executive1 name  \\\n",
       "0                           -               -                      -   \n",
       "1                           -               -                      -   \n",
       "2  Drug Manufacturers - Major             123      Mr. Alain  Moussy   \n",
       "3                           -               -                      -   \n",
       "4            Asset Management              83  Mr. Dominique  Ceolin   \n",
       "\n",
       "                                executive1 title  ...  \\\n",
       "0                                              -  ...   \n",
       "1                                              -  ...   \n",
       "2  Co-Founder Chairman CEO & Scientific Director  ...   \n",
       "3                                              -  ...   \n",
       "4                      Co-Founder Chairman & CEO  ...   \n",
       "\n",
       "           executive4 name                                   executive4 title  \\\n",
       "0                        -                                                  -   \n",
       "1                        -                                                  -   \n",
       "2  Mr. Christian  FASSOTTE                       Global Chief Medical Officer   \n",
       "3                        -                                                  -   \n",
       "4     Mr. Gaëtan  Fournier  Head of Fin. Internal Control & Compliance Off...   \n",
       "\n",
       "  executive4 pay executive4 exercised executive4 yearborn  \\\n",
       "0              -                    -                   -   \n",
       "1              -                    -                   -   \n",
       "2              -                    -                   -   \n",
       "3              -                    -                   -   \n",
       "4              -                    -                   -   \n",
       "\n",
       "       executive5 name            executive5 title executive5 pay  \\\n",
       "0                    -                           -              -   \n",
       "1                    -                           -              -   \n",
       "2  Mr. Alexis  BERNARD    Head of Veterinary Sales              -   \n",
       "3                    -                           -              -   \n",
       "4      Mr. David  Hoey  Deputy Chief Exec. Officer              -   \n",
       "\n",
       "  executive5 exercised executive5 yearborn  \n",
       "0                    -                   -  \n",
       "1                    -                   -  \n",
       "2                    -                   -  \n",
       "3                    -                   -  \n",
       "4                    -                1970  \n",
       "\n",
       "[5 rows x 33 columns]"
      ]
     },
     "execution_count": 7,
     "metadata": {},
     "output_type": "execute_result"
    }
   ],
   "source": [
    "df.head()"
   ]
  },
  {
   "cell_type": "code",
   "execution_count": 8,
   "metadata": {
    "collapsed": false
   },
   "outputs": [
    {
     "data": {
      "text/plain": [
       "Index(['ticker', 'company name', 'address', 'phone', 'website', 'sector',\n",
       "       'industry', 'employee number', 'executive1 name', 'executive1 title',\n",
       "       'executive1 pay', 'executive1 exercised', 'executive1 yearborn',\n",
       "       'executive2 name', 'executive2 title', 'executive2 pay',\n",
       "       'executive2 exercised', 'executive2 yearborn', 'executive3 name',\n",
       "       'executive3 title', 'executive3 pay', 'executive3 exercised',\n",
       "       'executive3 yearborn', 'executive4 name', 'executive4 title',\n",
       "       'executive4 pay', 'executive4 exercised', 'executive4 yearborn',\n",
       "       'executive5 name', 'executive5 title', 'executive5 pay',\n",
       "       'executive5 exercised', 'executive5 yearborn'],\n",
       "      dtype='object')"
      ]
     },
     "execution_count": 8,
     "metadata": {},
     "output_type": "execute_result"
    }
   ],
   "source": [
    "df.columns"
   ]
  },
  {
   "cell_type": "code",
   "execution_count": 9,
   "metadata": {
    "collapsed": false
   },
   "outputs": [
    {
     "data": {
      "text/plain": [
       "(2483, 33)"
      ]
     },
     "execution_count": 9,
     "metadata": {},
     "output_type": "execute_result"
    }
   ],
   "source": [
    "df.shape"
   ]
  },
  {
   "cell_type": "code",
   "execution_count": 10,
   "metadata": {
    "collapsed": false
   },
   "outputs": [
    {
     "data": {
      "text/plain": [
       "array(['-', 'Healthcare', 'Financial Services', 'Consumer Cyclical',\n",
       "       'Utilities', 'Real Estate', 'Industrials', 'Consumer Defensive',\n",
       "       'Communication Services', 'Basic Materials', 'Technology',\n",
       "       'sector', 'Energy', 'Services', 'Industrial Goods', 'Financial'],\n",
       "      dtype=object)"
      ]
     },
     "execution_count": 10,
     "metadata": {},
     "output_type": "execute_result"
    }
   ],
   "source": [
    "df['sector'].unique()"
   ]
  },
  {
   "cell_type": "code",
   "execution_count": 11,
   "metadata": {
    "collapsed": false
   },
   "outputs": [
    {
     "data": {
      "text/plain": [
       "array(['-', 'Drug Manufacturers - Major', 'Asset Management', 'Leisure',\n",
       "       'Utilities - Regulated Electric', 'Biotechnology', 'Lodging',\n",
       "       'Banks - Regional - Europe', 'REIT - Office',\n",
       "       'Airports & Air Services', 'Advertising Agencies',\n",
       "       'Capital Markets', 'Beverages - Brewers', 'Airlines',\n",
       "       'Telecom Services', 'Building Materials', 'Chemicals',\n",
       "       'Aerospace & Defense', 'Business Services', 'Specialty Chemicals',\n",
       "       'Marketing Services', 'Rental & Leasing Services',\n",
       "       'Internet Content & Information', 'Real Estate Services',\n",
       "       'Farm Products', 'Software - Infrastructure',\n",
       "       'Security & Protection Services', 'industry', 'Gold',\n",
       "       'Software - Application', 'Packaging & Containers',\n",
       "       'Diagnostics & Research', 'Medical Devices',\n",
       "       'Medical Instruments & Supplies', 'Apparel Stores',\n",
       "       'Integrated Shipping & Logistics', 'Contract Manufacturers',\n",
       "       'Lumber & Wood Production', 'Aluminum', 'Restaurants',\n",
       "       'Diversified Industrials', 'Auto Parts', 'Apparel Manufacturing',\n",
       "       'Oil & Gas Equipment & Services',\n",
       "       'Staffing & Outsourcing Services', 'Computer Systems',\n",
       "       'REIT - Residential', 'Waste Management',\n",
       "       'Electronic Gaming & Multimedia', 'Electronic Components',\n",
       "       'Auto Manufacturers', 'Utilities - Diversified',\n",
       "       'Utilities - Independent Power Producers',\n",
       "       'Industrial Metals & Minerals', 'Pollution & Treatment Controls',\n",
       "       'Information Technology Services', 'Real Estate - General',\n",
       "       'Household & Personal Products', 'Health Information Services',\n",
       "       'Communication Equipment', 'Consumer Electronics',\n",
       "       'Scientific & Technical Instruments', 'Packaged Foods',\n",
       "       'Home Furnishings & Fixtures', 'Specialty Retail',\n",
       "       'Business Equipment', 'Semiconductor Equipment & Materials',\n",
       "       'Insurance Brokers', 'REIT - Diversified', 'Conglomerates',\n",
       "       'Residential Construction', 'Engineering & Construction',\n",
       "       'Resorts & Casinos', 'Medical Distribution', 'Grocery Stores',\n",
       "       'Farm & Construction Equipment', 'Luxury Goods',\n",
       "       'Insurance - Life', 'Insurance - Property & Casualty',\n",
       "       'Textile Manufacturing', 'Insurance - Diversified',\n",
       "       'Beverages - Wineries & Distilleries', 'Oil & Gas E&P',\n",
       "       'Broadcasting - TV', 'Credit Services', 'Financial Exchanges',\n",
       "       'Oil & Gas Refining & Marketing', 'Paper & Paper Products',\n",
       "       'Railroads', 'Food Distribution', 'Oil & Gas Integrated',\n",
       "       'REIT - Retail', 'Media - Diversified', 'Health Care Plans',\n",
       "       'Infrastructure Operations', 'Agricultural Inputs',\n",
       "       'Banks - Global', 'Computer Distribution',\n",
       "       'Drug Manufacturers - Specialty & Generic', 'Steel',\n",
       "       'Footwear & Accessories', 'Long-Term Care Facilities',\n",
       "       'Rubber & Plastics', 'Auto Dealerships',\n",
       "       'Utilities - Regulated Water', 'Publishing', 'Solar',\n",
       "       'Savings & Cooperative Banks', 'Electronics Distribution',\n",
       "       'Property Management', 'Specialty Finance',\n",
       "       'Air Delivery & Freight Services', 'Real Estate Development',\n",
       "       'Education & Training Services', 'Home Improvement Stores',\n",
       "       'Broadcasting - Radio', 'Semiconductor Memory',\n",
       "       'Utilities - Regulated Gas', 'Industrial Distribution',\n",
       "       'Insurance - Reinsurance', 'Semiconductors', 'Shipping & Ports'],\n",
       "      dtype=object)"
      ]
     },
     "execution_count": 11,
     "metadata": {},
     "output_type": "execute_result"
    }
   ],
   "source": [
    "df['industry'].unique()"
   ]
  },
  {
   "cell_type": "code",
   "execution_count": 12,
   "metadata": {
    "collapsed": false
   },
   "outputs": [
    {
     "data": {
      "text/plain": [
       "(50, 33)"
      ]
     },
     "execution_count": 12,
     "metadata": {},
     "output_type": "execute_result"
    }
   ],
   "source": [
    "df[df['industry'].str.contains('REIT')].shape"
   ]
  },
  {
   "cell_type": "code",
   "execution_count": 13,
   "metadata": {
    "collapsed": false
   },
   "outputs": [
    {
     "data": {
      "text/plain": [
       "['ACAN.PA',\n",
       " 'ALDV.PA',\n",
       " 'ALTA.PA',\n",
       " 'ARG.PA',\n",
       " 'BLEE.PA',\n",
       " 'CBSM.PA',\n",
       " 'CGR.PA',\n",
       " 'EIFF.PA',\n",
       " 'FATL.PA',\n",
       " 'FLY.PA',\n",
       " 'FPN.PA',\n",
       " 'FREY.PA',\n",
       " 'GFC.PA',\n",
       " 'ICAD.PA',\n",
       " 'IMDA.PA',\n",
       " 'INEA.PA',\n",
       " 'LI.PA',\n",
       " 'MERY.PA',\n",
       " 'MLMAB.PA',\n",
       " 'MRM.PA',\n",
       " 'OFP.PA',\n",
       " 'PAR.PA',\n",
       " 'PAT.PA',\n",
       " 'SELER.PA',\n",
       " 'TER.PA',\n",
       " 'ACAN.PA',\n",
       " 'ALDV.PA',\n",
       " 'ALTA.PA',\n",
       " 'ARG.PA',\n",
       " 'BLEE.PA',\n",
       " 'CBSM.PA',\n",
       " 'CGR.PA',\n",
       " 'EIFF.PA',\n",
       " 'FATL.PA',\n",
       " 'FLY.PA',\n",
       " 'FPN.PA',\n",
       " 'FREY.PA',\n",
       " 'GFC.PA',\n",
       " 'ICAD.PA',\n",
       " 'IMDA.PA',\n",
       " 'INEA.PA',\n",
       " 'LI.PA',\n",
       " 'MERY.PA',\n",
       " 'MLMAB.PA',\n",
       " 'MRM.PA',\n",
       " 'OFP.PA',\n",
       " 'PAR.PA',\n",
       " 'PAT.PA',\n",
       " 'SELER.PA',\n",
       " 'TER.PA']"
      ]
     },
     "execution_count": 13,
     "metadata": {},
     "output_type": "execute_result"
    }
   ],
   "source": [
    "df[df['industry'].str.contains('REIT')]['ticker'].tolist()"
   ]
  },
  {
   "cell_type": "code",
   "execution_count": 14,
   "metadata": {
    "collapsed": false
   },
   "outputs": [
    {
     "data": {
      "text/plain": [
       "['ACAN.PA',\n",
       " 'ALADO.PA',\n",
       " 'ALDV.PA',\n",
       " 'ALIMO.PA',\n",
       " 'ALREA.PA',\n",
       " 'ALSAS.PA',\n",
       " 'ALTA.PA',\n",
       " 'AREIT.PA',\n",
       " 'ARG.PA',\n",
       " 'BERR.PA',\n",
       " 'BLEE.PA',\n",
       " 'CAPLI.PA',\n",
       " 'CARM.PA',\n",
       " 'CBOT.PA',\n",
       " 'CBSM.PA',\n",
       " 'CFI.PA',\n",
       " 'CGR.PA',\n",
       " 'COUR.PA',\n",
       " 'CROS.PA',\n",
       " 'EBPF.PA',\n",
       " 'EFI.PA',\n",
       " 'EIFF.PA',\n",
       " 'EURS.PA',\n",
       " 'FATL.PA',\n",
       " 'FIPP.PA',\n",
       " 'FLY.PA',\n",
       " 'FPN.PA',\n",
       " 'FREY.PA',\n",
       " 'GFC.PA',\n",
       " 'ICAD.PA',\n",
       " 'IMDA.PA',\n",
       " 'INEA.PA',\n",
       " 'LI.PA',\n",
       " 'MERY.PA',\n",
       " 'MLMAB.PA',\n",
       " 'MLUNT.PA',\n",
       " 'MLVIN.PA',\n",
       " 'MRM.PA',\n",
       " 'NXI.PA',\n",
       " 'OFP.PA',\n",
       " 'ORIA.PA',\n",
       " 'PAR.PA',\n",
       " 'PAT.PA',\n",
       " 'SELER.PA',\n",
       " 'SFBS.PA',\n",
       " 'SPEL.PA',\n",
       " 'TER.PA',\n",
       " 'ACAN.PA',\n",
       " 'ALADO.PA',\n",
       " 'ALDV.PA',\n",
       " 'ALIMO.PA',\n",
       " 'ALREA.PA',\n",
       " 'ALSAS.PA',\n",
       " 'ALTA.PA',\n",
       " 'AREIT.PA',\n",
       " 'ARG.PA',\n",
       " 'BERR.PA',\n",
       " 'BLEE.PA',\n",
       " 'CAPLI.PA',\n",
       " 'CARM.PA',\n",
       " 'CBOT.PA',\n",
       " 'CBSM.PA',\n",
       " 'CFI.PA',\n",
       " 'CGR.PA',\n",
       " 'COUR.PA',\n",
       " 'CROS.PA',\n",
       " 'EBPF.PA',\n",
       " 'EFI.PA',\n",
       " 'EIFF.PA',\n",
       " 'EURS.PA',\n",
       " 'FATL.PA',\n",
       " 'FIPP.PA',\n",
       " 'FLY.PA',\n",
       " 'FPN.PA',\n",
       " 'FREY.PA',\n",
       " 'GFC.PA',\n",
       " 'ICAD.PA',\n",
       " 'IMDA.PA',\n",
       " 'INEA.PA',\n",
       " 'LI.PA',\n",
       " 'MERY.PA',\n",
       " 'MLMAB.PA',\n",
       " 'MLUNT.PA',\n",
       " 'MLVIN.PA',\n",
       " 'MRM.PA',\n",
       " 'NXI.PA',\n",
       " 'OFP.PA',\n",
       " 'ORIA.PA',\n",
       " 'PAR.PA',\n",
       " 'PAT.PA',\n",
       " 'SELER.PA',\n",
       " 'SFBS.PA',\n",
       " 'SPEL.PA',\n",
       " 'TER.PA']"
      ]
     },
     "execution_count": 14,
     "metadata": {},
     "output_type": "execute_result"
    }
   ],
   "source": [
    "df[df['sector'] == 'Real Estate']['ticker'].tolist()"
   ]
  }
 ],
 "metadata": {
  "kernelspec": {
   "display_name": "unibit",
   "language": "python",
   "name": "unibit"
  },
  "language_info": {
   "codemirror_mode": {
    "name": "ipython",
    "version": 3
   },
   "file_extension": ".py",
   "mimetype": "text/x-python",
   "name": "python",
   "nbconvert_exporter": "python",
   "pygments_lexer": "ipython3",
   "version": "3.7.6"
  }
 },
 "nbformat": 4,
 "nbformat_minor": 2
}
